{
 "cells": [
  {
   "cell_type": "code",
   "execution_count": 2,
   "id": "compatible-speaking",
   "metadata": {},
   "outputs": [],
   "source": [
    "import pandas as pd"
   ]
  },
  {
   "cell_type": "code",
   "execution_count": 3,
   "id": "indie-toner",
   "metadata": {},
   "outputs": [],
   "source": [
    "import tensorflow as tf"
   ]
  },
  {
   "cell_type": "code",
   "execution_count": 18,
   "id": "fresh-basket",
   "metadata": {},
   "outputs": [
    {
     "data": {
      "text/html": [
       "<div>\n",
       "<style scoped>\n",
       "    .dataframe tbody tr th:only-of-type {\n",
       "        vertical-align: middle;\n",
       "    }\n",
       "\n",
       "    .dataframe tbody tr th {\n",
       "        vertical-align: top;\n",
       "    }\n",
       "\n",
       "    .dataframe thead th {\n",
       "        text-align: right;\n",
       "    }\n",
       "</style>\n",
       "<table border=\"1\" class=\"dataframe\">\n",
       "  <thead>\n",
       "    <tr style=\"text-align: right;\">\n",
       "      <th></th>\n",
       "      <th>rating</th>\n",
       "    </tr>\n",
       "  </thead>\n",
       "  <tbody>\n",
       "    <tr>\n",
       "      <th>0</th>\n",
       "      <td>3</td>\n",
       "    </tr>\n",
       "    <tr>\n",
       "      <th>1</th>\n",
       "      <td>2</td>\n",
       "    </tr>\n",
       "    <tr>\n",
       "      <th>2</th>\n",
       "      <td>1</td>\n",
       "    </tr>\n",
       "    <tr>\n",
       "      <th>3</th>\n",
       "      <td>3</td>\n",
       "    </tr>\n",
       "    <tr>\n",
       "      <th>4</th>\n",
       "      <td>1</td>\n",
       "    </tr>\n",
       "    <tr>\n",
       "      <th>...</th>\n",
       "      <td>...</td>\n",
       "    </tr>\n",
       "    <tr>\n",
       "      <th>603</th>\n",
       "      <td>2</td>\n",
       "    </tr>\n",
       "    <tr>\n",
       "      <th>604</th>\n",
       "      <td>3</td>\n",
       "    </tr>\n",
       "    <tr>\n",
       "      <th>605</th>\n",
       "      <td>2</td>\n",
       "    </tr>\n",
       "    <tr>\n",
       "      <th>606</th>\n",
       "      <td>2</td>\n",
       "    </tr>\n",
       "    <tr>\n",
       "      <th>607</th>\n",
       "      <td>1</td>\n",
       "    </tr>\n",
       "  </tbody>\n",
       "</table>\n",
       "<p>608 rows × 1 columns</p>\n",
       "</div>"
      ],
      "text/plain": [
       "     rating\n",
       "0         3\n",
       "1         2\n",
       "2         1\n",
       "3         3\n",
       "4         1\n",
       "..      ...\n",
       "603       2\n",
       "604       3\n",
       "605       2\n",
       "606       2\n",
       "607       1\n",
       "\n",
       "[608 rows x 1 columns]"
      ]
     },
     "execution_count": 18,
     "metadata": {},
     "output_type": "execute_result"
    }
   ],
   "source": [
    "rating_data = pd.read_csv('final_data2.csv')\n",
    "rating_data['side_info_user'] = rating_data['energy_consumption_perday']\n",
    "\n",
    "rating_data['side_info_item'] = rating_data['volume(kwh)']\n",
    "\n",
    "\n",
    "\n",
    "\n",
    "\n",
    "Y"
   ]
  },
  {
   "cell_type": "code",
   "execution_count": 8,
   "id": "crude-majority",
   "metadata": {},
   "outputs": [],
   "source": [
    "\n",
    "\n",
    "\n",
    "\n"
   ]
  },
  {
   "cell_type": "code",
   "execution_count": 32,
   "id": "sought-sweet",
   "metadata": {},
   "outputs": [
    {
     "name": "stdout",
     "output_type": "stream",
     "text": [
      "fold\n",
      "fold\n",
      "fold\n"
     ]
    }
   ],
   "source": [
    "from sklearn.model_selection import KFold,cross_val_score\n",
    "kfold = KFold(n_splits=3,shuffle=False)\n",
    "\n",
    "X=rating_data[['user_id','battery_id','side_info_user','side_info_item']]\n",
    "Y=rating_data[['rating']]\n",
    "\n",
    "for train_ind,test_ind in kfold.split(X):\n",
    "    print('fold')\n",
    "    train_x=X.loc[train_ind]\n",
    "    train_y=Y.loc[train_ind]\n",
    "    \n",
    "    test_x=X.loc[test_ind]\n",
    "    test_y=Y.loc[test_ind]\n",
    "    \n",
    "    #model fit(x_train,y_train)\n",
    "    #model valid(test_x,test_y)\n",
    "    \n",
    "    "
   ]
  },
  {
   "cell_type": "code",
   "execution_count": 31,
   "id": "hungarian-torture",
   "metadata": {},
   "outputs": [
    {
     "data": {
      "text/html": [
       "<div>\n",
       "<style scoped>\n",
       "    .dataframe tbody tr th:only-of-type {\n",
       "        vertical-align: middle;\n",
       "    }\n",
       "\n",
       "    .dataframe tbody tr th {\n",
       "        vertical-align: top;\n",
       "    }\n",
       "\n",
       "    .dataframe thead th {\n",
       "        text-align: right;\n",
       "    }\n",
       "</style>\n",
       "<table border=\"1\" class=\"dataframe\">\n",
       "  <thead>\n",
       "    <tr style=\"text-align: right;\">\n",
       "      <th></th>\n",
       "      <th>user_id</th>\n",
       "      <th>battery_id</th>\n",
       "      <th>side_info_user</th>\n",
       "      <th>side_info_item</th>\n",
       "    </tr>\n",
       "  </thead>\n",
       "  <tbody>\n",
       "    <tr>\n",
       "      <th>406</th>\n",
       "      <td>114</td>\n",
       "      <td>18</td>\n",
       "      <td>0.999330</td>\n",
       "      <td>0.189944</td>\n",
       "    </tr>\n",
       "    <tr>\n",
       "      <th>407</th>\n",
       "      <td>28</td>\n",
       "      <td>18</td>\n",
       "      <td>0.518696</td>\n",
       "      <td>0.189944</td>\n",
       "    </tr>\n",
       "    <tr>\n",
       "      <th>408</th>\n",
       "      <td>132</td>\n",
       "      <td>18</td>\n",
       "      <td>0.394683</td>\n",
       "      <td>0.189944</td>\n",
       "    </tr>\n",
       "    <tr>\n",
       "      <th>409</th>\n",
       "      <td>96</td>\n",
       "      <td>18</td>\n",
       "      <td>0.043197</td>\n",
       "      <td>0.189944</td>\n",
       "    </tr>\n",
       "    <tr>\n",
       "      <th>410</th>\n",
       "      <td>77</td>\n",
       "      <td>18</td>\n",
       "      <td>0.015103</td>\n",
       "      <td>0.189944</td>\n",
       "    </tr>\n",
       "    <tr>\n",
       "      <th>...</th>\n",
       "      <td>...</td>\n",
       "      <td>...</td>\n",
       "      <td>...</td>\n",
       "      <td>...</td>\n",
       "    </tr>\n",
       "    <tr>\n",
       "      <th>603</th>\n",
       "      <td>127</td>\n",
       "      <td>28</td>\n",
       "      <td>0.125662</td>\n",
       "      <td>0.184358</td>\n",
       "    </tr>\n",
       "    <tr>\n",
       "      <th>604</th>\n",
       "      <td>81</td>\n",
       "      <td>28</td>\n",
       "      <td>0.110901</td>\n",
       "      <td>0.184358</td>\n",
       "    </tr>\n",
       "    <tr>\n",
       "      <th>605</th>\n",
       "      <td>121</td>\n",
       "      <td>28</td>\n",
       "      <td>0.117450</td>\n",
       "      <td>0.184358</td>\n",
       "    </tr>\n",
       "    <tr>\n",
       "      <th>606</th>\n",
       "      <td>108</td>\n",
       "      <td>28</td>\n",
       "      <td>0.121868</td>\n",
       "      <td>0.184358</td>\n",
       "    </tr>\n",
       "    <tr>\n",
       "      <th>607</th>\n",
       "      <td>133</td>\n",
       "      <td>28</td>\n",
       "      <td>0.945032</td>\n",
       "      <td>0.184358</td>\n",
       "    </tr>\n",
       "  </tbody>\n",
       "</table>\n",
       "<p>202 rows × 4 columns</p>\n",
       "</div>"
      ],
      "text/plain": [
       "     user_id  battery_id  side_info_user  side_info_item\n",
       "406      114          18        0.999330        0.189944\n",
       "407       28          18        0.518696        0.189944\n",
       "408      132          18        0.394683        0.189944\n",
       "409       96          18        0.043197        0.189944\n",
       "410       77          18        0.015103        0.189944\n",
       "..       ...         ...             ...             ...\n",
       "603      127          28        0.125662        0.184358\n",
       "604       81          28        0.110901        0.184358\n",
       "605      121          28        0.117450        0.184358\n",
       "606      108          28        0.121868        0.184358\n",
       "607      133          28        0.945032        0.184358\n",
       "\n",
       "[202 rows x 4 columns]"
      ]
     },
     "execution_count": 31,
     "metadata": {},
     "output_type": "execute_result"
    }
   ],
   "source": [
    "test_x"
   ]
  },
  {
   "cell_type": "code",
   "execution_count": 13,
   "id": "qualified-evidence",
   "metadata": {},
   "outputs": [
    {
     "data": {
      "text/plain": [
       "0      134\n",
       "1       42\n",
       "2       41\n",
       "3      120\n",
       "4        5\n",
       "      ... \n",
       "401     98\n",
       "402    100\n",
       "403     87\n",
       "404     95\n",
       "405     47\n",
       "Name: user_id, Length: 406, dtype: int64"
      ]
     },
     "execution_count": 13,
     "metadata": {},
     "output_type": "execute_result"
    }
   ],
   "source": [
    "rating_data['user_id'][x_ind]"
   ]
  },
  {
   "cell_type": "code",
   "execution_count": 14,
   "id": "third-appendix",
   "metadata": {},
   "outputs": [
    {
     "data": {
      "text/plain": [
       "0      134\n",
       "1       42\n",
       "2       41\n",
       "3      120\n",
       "4        5\n",
       "      ... \n",
       "603    127\n",
       "604     81\n",
       "605    121\n",
       "606    108\n",
       "607    133\n",
       "Name: user_id, Length: 608, dtype: int64"
      ]
     },
     "execution_count": 14,
     "metadata": {},
     "output_type": "execute_result"
    }
   ],
   "source": [
    "rating_data['user_id']"
   ]
  }
 ],
 "metadata": {
  "kernelspec": {
   "display_name": "Python 3",
   "language": "python",
   "name": "python3"
  },
  "language_info": {
   "codemirror_mode": {
    "name": "ipython",
    "version": 3
   },
   "file_extension": ".py",
   "mimetype": "text/x-python",
   "name": "python",
   "nbconvert_exporter": "python",
   "pygments_lexer": "ipython3",
   "version": "3.7.7"
  }
 },
 "nbformat": 4,
 "nbformat_minor": 5
}
